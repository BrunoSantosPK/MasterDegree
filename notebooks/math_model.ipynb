{
 "cells": [
  {
   "cell_type": "markdown",
   "metadata": {},
   "source": [
    "# Modelo Matemático Integração Lavoura e Pecuária\n",
    "\n",
    "## Variáveis de decisão\n",
    "\n",
    "## Função objetivo\n",
    "\n",
    "Maximizar o capital obtido após remoções de subsistência\n",
    "\n",
    "\n",
    "\\begin{align}\n",
    "    \\sum_{j=0}^{J} \\sum_{i=T_j}^{I-T_j} A_{ij} Y_j P_j\n",
    "    +\n",
    "    \\sum_{k=0}^{K} \\sum_{i=F_k}^{I} V_{ik} G_k C_k\n",
    "    +\n",
    "    \\sum_{k=0}^{K} \\sum_{i=H_k}^{I} (\\sum_{a=0}^{i-H_k} Q_{ak} - \\sum_{a=0}^{i} V_{ak}) R_k B_k\n",
    "\\end{align}\n",
    "\n",
    "Dado que,\n",
    "<br>I = número de meses avaliados\n",
    "<br>J = número de culturas avaliadas\n",
    "<br>K = número de animais possíveis de serem criados\n",
    "<br>A<sub>ij</sub> = área em m<sup>2</sup> alocada para a cultura j no mês i\n",
    "<br>T<sub>j</sub> = tempo em meses que a cultura j leva para estar pronta para colheita\n",
    "<br>Y<sub>j</sub> = quantidade colhida em kg da cultura j por m<sup>2</sup>\n",
    "<br>P<sub>j</sub> = preço de venda em R$ por kg da cultura j\n",
    "<br>V<sub>ik</sub> = quantidade de lotes de animal k vendidos no mês i\n",
    "<br>F<sub>k</sub> = tempo em meses que um lote do animal k está pronto para ser abatido\n",
    "<br>G<sub>k</sub> = quantidade de massa em kg do lote do animal k\n",
    "<br>C<sub>k</sub> = preço de venda em R$ do lote do animal k\n",
    "<br>H<sub>k</sub> = tempo em meses que um lote do animal k começa a gerar produtos\n",
    "<br>V<sub>ik</sub> = lotes de animal k que começou a ser criado no mês i\n",
    "<br>R<sub>k</sub> = quantidade de produto (unidade física genérica) gerado pelo animal k\n",
    "<br>B<sub>k</sub> = preço em R$ por quantidade de produto (unidade física genérica) gerado pelo animal k"
   ]
  },
  {
   "cell_type": "code",
   "execution_count": null,
   "metadata": {},
   "outputs": [],
   "source": []
  }
 ],
 "metadata": {
  "kernelspec": {
   "display_name": ".venv",
   "language": "python",
   "name": "python3"
  },
  "language_info": {
   "codemirror_mode": {
    "name": "ipython",
    "version": 3
   },
   "file_extension": ".py",
   "mimetype": "text/x-python",
   "name": "python",
   "nbconvert_exporter": "python",
   "pygments_lexer": "ipython3",
   "version": "3.10.12"
  }
 },
 "nbformat": 4,
 "nbformat_minor": 2
}
