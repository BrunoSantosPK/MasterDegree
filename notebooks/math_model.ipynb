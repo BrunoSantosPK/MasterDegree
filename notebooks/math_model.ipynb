{
 "cells": [
  {
   "cell_type": "markdown",
   "metadata": {},
   "source": [
    "# Modelo Matemático Integração Lavoura e Pecuária\n",
    "\n",
    "Este modelo tem como objetivo descrever os relacionamentos entre o cultivo na lavoura e a criação de animais, dentro da lógica da Integração Lavoura-Pecuária demonstrada pela EMBRAPA."
   ]
  },
  {
   "cell_type": "markdown",
   "metadata": {},
   "source": [
    "## Variáveis de decisão\n",
    "\n",
    "AC<sub>ij</sub> = área em m<sup>2</sup> plantada do cultivo j no mês i\n",
    "\n",
    "VC<sub>ij</sub> = quantidade em kg do cultivo produzido j vendida no mês i\n",
    "\n",
    "EC<sub>ij</sub> = quantidade em kg do cultivo produzido j estocado no mês i\n",
    "\n",
    "CC<sub>ij</sub> = quantidade em kg do cultivo j comprado no mês i\n",
    "\n",
    "PC<sub>ij</sub> = quantidade em kg do cultivo produzido j que é utilizado para consumo dos moradores no mês i\n",
    "\n",
    "RC<sub>ijk</sub> = quantidade em kg do cultivo produzido j que é utilizado para alimentação do animal k no mês i\n",
    "\n",
    "FC<sub>i</sub> = quantidade em kg de fertilizante comprado no mês i\n",
    "\n",
    "CA<sub>ik</sub> = quantidade de lotes do animal k comprados para criação no mês i\n",
    "\n",
    "VA<sub>ik</sub> = quantidade de lotes do animal k vendidos no mês i\n",
    "\n",
    "AA<sub>ik</sub> = quantidade de lotes do animal k abatidos no mês i\n",
    "\n",
    "PA<sub>ik</sub> = quantidade de carne do animal k comprada para cosumo no mês i\n",
    "\n",
    "RA<sub>ik</sub> = quantidade em kg de ração comprada para o animal k no mês i\n",
    "\n",
    "VP<sub>ik</sub> = quantidade (unidade específica) de produto gerado pelo animal k vendido no mês i\n",
    "\n",
    "AP<sub>ik</sub> = quantidade (unidade específica) de produto gerado pelo animal k consumido no mês i\n",
    "\n",
    "CP<sub>ik</sub> = quantidade (unidade específica) de produto do animal k comprado no mês i"
   ]
  },
  {
   "cell_type": "markdown",
   "metadata": {},
   "source": [
    "## Entradas\n",
    "\n",
    "I = conjunto de meses que serão avaliados no planejamento\n",
    "\n",
    "J = conjunto de culturas disponíveis para plantação\n",
    "\n",
    "K = conjunto de animais disponíveis para criação\n",
    "\n",
    "L = área total da propriedade (m<sup>2</sup>) disponível para plantio e criação de animais\n",
    "\n",
    "P = quantidade de pessoas que vivem na propriedade\n",
    "\n",
    "NAC<sub>j</sub> = necessidade alimentar da cultura j em kg / (mês . pessoa)\n",
    "\n",
    "NAA<sub>k</sub> = necessidade alimentar da carne do animal k em kg / (mês . pessoa)\n",
    "\n",
    "NAP<sub>k</sub> = necessidade alimentar do produto gerado pelo animal k em kg / (mês . pessoa)"
   ]
  },
  {
   "cell_type": "markdown",
   "metadata": {},
   "source": [
    "## Parâmetros\n",
    "\n",
    "PAC = valor em R\\$ / kg do adubo utilizado nas plantações\n",
    "\n",
    "TCC<sub>j</sub> = tempo em meses que a cultura j leva para estar pronta para colheita\n",
    "\n",
    "PYC<sub>j</sub> = quantidade colhida em kg / m<sup>2</sup> da cultura j\n",
    "\n",
    "VCC<sub>j</sub> = valor em R\\$ / kg de compra da cultura j\n",
    "\n",
    "VVC<sub>j</sub> = valor em R\\$ / kg de venda da cultura j\n",
    "\n",
    "CCC<sub>j</sub> = custo em R\\$ / m<sup>2</sup> para plantar a cultura j\n",
    "\n",
    "CEC<sub>j</sub> = custo em R\\$ / (kg . mês) para armazenar a cultura j\n",
    "\n",
    "RAC<sub>j</sub> = requisito em kg / (m<sup>2</sup> . mês) de adubo que a cultura j necessita\n",
    "\n",
    "AAC<sub>jk</sub> = valor binário que indica que a plantação j pode alimentar o animal k\n",
    "\n",
    "TCA<sub>k</sub> = tempo em meses que um animal k precisa para estar pronto para abate\n",
    "\n",
    "CCA<sub>k</sub> = custo em R\\$ / (lote animal) de compra do animal k para crescimento\n",
    "\n",
    "PRA<sub>k</sub> = valor em R\\$ / kg da ração do animal k\n",
    "\n",
    "VCA<sub>k</sub> = valor em R\\$ / kg de compra da carne do animal k\n",
    "\n",
    "VVA<sub>k</sub> = valor em R\\$ / (lote animal) de venda de um lote do animal k\n",
    "\n",
    "RRA<sub>k</sub> = requisito em kg / (lote animal . mês) de ração necessária para o animal k\n",
    "\n",
    "PYA<sub>k</sub> = massa em kg de um lote de animal k crescido\n",
    "\n",
    "RAA<sub>k</sub> = requisito de área em m<sup>2</sup> para criar um lote de animal k\n",
    "\n",
    "TCP<sub>k</sub> = tempo em meses que um animal k precisa para começar a gerar produtos\n",
    "\n",
    "PYP<sub>k</sub> = quantidade de produto em (unidade específica) / mês gerada pelo animal k\n",
    "\n",
    "VCP<sub>k</sub> = valor em R\\$ / (unidade específica) de compra do produto gerado pelo animal k\n",
    "\n",
    "AGA<sub>k</sub> = quantidade em kg / (lote animal . mês) de esterco para adubação gerado pelo animal k\n",
    "\n",
    "VVP<sub>k</sub> = valor em R\\$ / (unidade específica) de venda do produto do animal k"
   ]
  },
  {
   "cell_type": "markdown",
   "metadata": {},
   "source": [
    "## Função Objetivo\n",
    "\n",
    "Para atingir uma maior sustentabilidade, a função objetivo será a quantidade de excedente de produção, que pode ser destinada para a geração de lucro. Para isso, as quantidades das variáveis de decisão são transformadas em valores mometários. São parcelas que compõe o excedente:\n",
    "\n",
    "1. (+) Valor das plantações vendidas;\n",
    "2. (+) Valor dos animais vendidos;\n",
    "3. (+) Valor dos produtos animais vendidos;\n",
    "4. (-) Custo dos animais comprados;\n",
    "5. (-) Custo das plantações realizadas;\n",
    "6. (-) Custo das compras de fertilizante;\n",
    "7. (-) Custo das compras de ração;\n",
    "8. (-) Custo das compras de plantações para consumo;\n",
    "9. (-) Custo do armazenamento de plantações colhidas.\n",
    "\n",
    "\n",
    "\n",
    "\\begin{align}\n",
    "    FO_1 = \\sum_{j=0}^{J} \\sum_{i=0}^{I} VC_{ij} \\cdot VVC_j \\\\\n",
    "    FO_2 = \\sum_{k=0}^{K} \\sum_{i=0}^{I} VA_{ik} \\cdot VVA_k \\\\\n",
    "    FO_3 = \\sum_{k=0}^{K} \\sum_{i=0}^{I} VP_{ik} \\cdot VVP_k \\\\\n",
    "    FO_4 = \\sum_{k=0}^{K} \\sum_{i=0}^{I} CA_{ik} \\cdot PYA_k \\cdot VCA_k \\\\\n",
    "    FO_5 = \\sum_{j=0}^{J} \\sum_{i=0}^{I} AC_{ij} \\cdot CCC_j \\\\\n",
    "    FO_6 = \\sum_{i=0}^{I} FC_i \\cdot PAC  \\\\\n",
    "    FO_7 = \\sum_{k=0}^{K} \\sum_{i=0}^{I} RA_{ik} \\cdot PRA_k  \\\\\n",
    "    FO_8 = \\sum_{j=0}^{J} \\sum_{i=0}^{I} CC_{ij} \\cdot VCC_j  \\\\\n",
    "    FO_9 = \\sum_{j=0}^{J} \\sum_{i=0}^{I} EC_{ij} \\cdot CEC_j  \\\\\n",
    "\n",
    "    max FO = FO_1 + FO_2 + FO_3 - FO_4 - FO_5 - FO_6 - FO_7 - FO_8 - FO_9 \n",
    "\\end{align}"
   ]
  },
  {
   "cell_type": "markdown",
   "metadata": {},
   "source": [
    "## Restrições\n",
    "\n",
    "As restrições estão relacionadas com a disponibilidade de área para cultivo e criação de animais, requisitos de alimentação de animais e de adubação de cultivos, segurança alimentar dos membros da propriedade, tempo de colheita das culturas, tempo de crescimento de animais para abate e tempo para geração de produtos animais."
   ]
  },
  {
   "cell_type": "markdown",
   "metadata": {},
   "source": [
    "### Balanço de massa\n",
    "\n",
    "A propriedade é um sistema que precisa ter seu fluxo de massa controlado. Isto significa definir como as variáveis de decisão podem ser tomadas, garantindo que nenhuma massa é criada ou destruída ao se encontrar uma resolução. As seguintes restrições são responsáveis por manter:\n",
    "\n",
    "1. Todas as plantações colhidas em um mês são vendidas ou estocadas;\n",
    "2. Todos os produtos animais produzidos em um mês são vendidos ou consumidos;\n",
    "3. Os animais abatidos ou vendidos em um mês é resultado dos animais que cresceram na propriedade;\n",
    "4. Em um mês o estoque de plantações é consumido pelos moradores ou utilizado para a alimentação de animais.\n",
    "\n",
    "\\begin{align}\n",
    "    A_{(i-TCC_j)j} \\cdot PYC_j = EC_{ij} + VC_{ij}, \\ \\forall i \\in I \\ e \\ \\forall j \\in J \\\\\n",
    "    AP_{ik} + VP_{ik} = \\sum_{a=0}^{i-TCP_k} (CA_{ak} - VA_{ak} - AA_{ak}) PYP_k, \\ \\forall i \\in I \\ e \\ \\forall k \\in K \\\\\n",
    "    AA_{ik} + VA_{ik} \\leq \\sum_{a=0}^{i-TCA_k} (CA_{ak} - VA_{ak} - AA_{ak}), \\ \\forall i \\in I \\ e \\ \\forall k \\in K \\\\\n",
    "    PC_{ij} + \\sum_{k=0}^{K} RC_{ijk} \\leq \\sum_{a=0}^{i} EC_{ij} - \\sum_{a=0}^{i-1} (PC_{aj} + \\sum_{k=0}^{K} RC_{ajk}), \\ \\forall i \\in I \\ e \\ \\forall j \\in J\n",
    "\\end{align}"
   ]
  },
  {
   "cell_type": "markdown",
   "metadata": {},
   "source": [
    "### Área\n",
    "\n",
    "Cada plantação ocupa uma determinada área, assim como os animais necessitam de espaço para a criação. Neste sentido, as áreas ocupadas pelas plantações e animais devem obedecer ao limite de área da propriedade. Como plantações são colhidas no após um tempo TCC<sub>j</sub>, este caso deve ser considerado ao se avaliar a área gasta. Por outro lado, como compra, venda e abate de animais são variáveis de decisão, a verificação do gasto de área é mais direto, de modo que:\n",
    "\n",
    "\\begin{equation}\n",
    "    \\sum_{j=0}^{J} (\\sum_{a=0}^{i} AC_{aj} - \\sum_{a=0}^{i-TCC_j} AC_{aj}) + \\sum_{k=0}^{K} \\sum_{a=0}^{i} (CA_{ak} - VA_{ak} - AA_{ak}) RAA_k \\leq L , \\ \\forall i \\in I\n",
    "\\end{equation}"
   ]
  },
  {
   "cell_type": "markdown",
   "metadata": {},
   "source": [
    "### Adubação e alimentação\n",
    "\n",
    "Para que ocorra desenvolvimento das plantações é preciso que seja feita a adubação, o que garante também a saúde das plantas para suportar pragas e doenças. A adubação pode ser feita por meio da compra de fertilizantes ou utilizando o esterco gerado pelos animais. Em modo análogo, os animais precisam de ração, que pode ser obtida por meio da compra ou da colheita das plantações. Este conjunto de restrições são as responsáveis por garantir a integração do sistema, sendo elas:\n",
    "\n",
    "\\begin{align}\n",
    "    FA_i + \\sum_{a=0}^{i} (CA_{ak} - VA_{ak} - AA_{ak}) AGA_k \\geq RAC_j, \\ \\forall j \\in J \\ e \\ \\forall i \\in I \\\\\n",
    "    RA_{ik} + \\sum_{j=0}^{J} RC_{ijk} \\cdot AAC_{jk} \\geq RRA_k, \\ \\forall k \\in K \\ e \\ \\forall i \\in I \\\\\n",
    "\\end{align}"
   ]
  },
  {
   "cell_type": "markdown",
   "metadata": {},
   "source": [
    "### Segurança alimentar\n",
    "\n",
    "O grande diferencial da agricultura familiar é o objetivo primordial de garantir subsistência para a família. Neste sentido, é necessário incluir esta sequência de restrições no intuito de garantir que a propriedade seja capaz de produzir os recursos necessários (plantações e animais). Existe um <i>trade-off</i> entre a produção na interna ou a compra externa, já que a área para produção de comida pode ser alocada para produtos mais lucrativas. Esta decisão será o resultado do processo de otimização, que responderá o que gera mais excedente.\n",
    "\n",
    "\\begin{align}\n",
    "    PC_{ij} + CC_{ij} \\geq P \\cdot NAC_j, \\ \\forall i \\in I \\ e \\ \\forall j \\in J \\\\\n",
    "    AA_{ik} \\cdot PYA_k + PA_{ik} \\geq P \\cdot NAA_k, \\ \\forall i \\in I \\ e \\ \\forall k \\in K \\\\\n",
    "    AP_{ik} + CP_{ik} \\geq P \\cdot NAP_k, \\ \\forall i \\in I \\ e \\ \\forall k \\in K\n",
    "\\end{align}"
   ]
  },
  {
   "cell_type": "code",
   "execution_count": null,
   "metadata": {},
   "outputs": [],
   "source": []
  }
 ],
 "metadata": {
  "kernelspec": {
   "display_name": ".venv",
   "language": "python",
   "name": "python3"
  },
  "language_info": {
   "codemirror_mode": {
    "name": "ipython",
    "version": 3
   },
   "file_extension": ".py",
   "mimetype": "text/x-python",
   "name": "python",
   "nbconvert_exporter": "python",
   "pygments_lexer": "ipython3",
   "version": "3.10.12"
  }
 },
 "nbformat": 4,
 "nbformat_minor": 2
}
