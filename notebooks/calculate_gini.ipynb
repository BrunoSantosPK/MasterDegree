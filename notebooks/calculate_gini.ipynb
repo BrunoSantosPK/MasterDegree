{
 "cells": [
  {
   "cell_type": "code",
   "execution_count": 5,
   "metadata": {},
   "outputs": [],
   "source": [
    "import os\n",
    "import pandas as pd\n",
    "\n",
    "\n",
    "BASE_PATH = os.path.dirname(os.getcwd())"
   ]
  },
  {
   "cell_type": "code",
   "execution_count": 8,
   "metadata": {},
   "outputs": [],
   "source": [
    "dataset = pd.read_excel(f\"{BASE_PATH}/data/cplex_result_model_v1.ods\", sheet_name=\"axt\")"
   ]
  },
  {
   "cell_type": "code",
   "execution_count": 22,
   "metadata": {},
   "outputs": [
    {
     "name": "stdout",
     "output_type": "stream",
     "text": [
      "EXP_S2: 0.29\n",
      "EXP_S9: 0.43\n",
      "EXP_S10: 0.4\n",
      "EXP_D1: 0.17\n",
      "EXP_L3: 0.27\n",
      "EXP_L2: 0.12\n",
      "EXP_D2: 0.17\n",
      "EXP_D6: 0.62\n",
      "EXP_S1 : 0.19\n",
      "EXP_L11: 0.36\n",
      "EXP_L6: 0.76\n",
      "EXP_D3: 0.31\n",
      "EXP_S11: 0.32\n",
      "EXP_D9: 0.35\n",
      "EXP_L1: 0.15\n",
      "EXP_D10: 0.22\n",
      "EXP_D11: 0.25\n",
      "EXP_S3: 0.4\n",
      "EXP_S6: 0.88\n"
     ]
    }
   ],
   "source": [
    "for experiment in set(dataset[\"Experimento\"]):\n",
    "    # Recupera dados apenas do experimento, padronizando\n",
    "    axt = dataset.loc[dataset[\"Experimento\"] == experiment]\\\n",
    "        .dropna(axis=1).drop([\"Experimento\", \"I\"], axis=1).values\n",
    "    for i in range(0, len(axt)):\n",
    "        for j in range(0, len(axt[i])):\n",
    "            if axt[i][j] > 1:\n",
    "                axt[i][j] = axt[i][j] / 100\n",
    "\n",
    "    # Cálculo do coeficiente de gini\n",
    "    part1 = 0\n",
    "    part2 = 0\n",
    "    for i in range(0, len(axt)):\n",
    "        for j in range(0, len(axt[i])):\n",
    "            part2 = part2 + axt[i][j]\n",
    "            for k in range(0, len(axt[i])):\n",
    "                part1 = part1 + abs(axt[i][j] - axt[i][k])\n",
    "\n",
    "    gini = part1 / (2 * len(axt) * part2)\n",
    "    print(f\"{experiment}: {round(gini, 2)}\")"
   ]
  },
  {
   "cell_type": "code",
   "execution_count": null,
   "metadata": {},
   "outputs": [],
   "source": []
  }
 ],
 "metadata": {
  "kernelspec": {
   "display_name": ".venv",
   "language": "python",
   "name": "python3"
  },
  "language_info": {
   "codemirror_mode": {
    "name": "ipython",
    "version": 3
   },
   "file_extension": ".py",
   "mimetype": "text/x-python",
   "name": "python",
   "nbconvert_exporter": "python",
   "pygments_lexer": "ipython3",
   "version": "3.10.12"
  }
 },
 "nbformat": 4,
 "nbformat_minor": 2
}
