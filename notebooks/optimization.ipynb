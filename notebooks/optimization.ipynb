{
 "cells": [
  {
   "cell_type": "markdown",
   "metadata": {},
   "source": [
    "# Otimização Stardew Valley\n",
    "\n",
    "Neste notebook, o objetivo é trabalhar com algoritmos de otimização diversos, desde os clássicos até os famosos bio-inspirados. Mas antes de pensar nos algoritmos, vamos pensar no problema.\n",
    "\n",
    "Podemos pensar em casos de otimização com muita facilidade, desde aqueles casos clássicos da literatura de roteamento entre cidades (e o famoso problema do caixeiro viajante, TSP) até os processos de decisão do nosso dia a dia, como comprar a maior diversidade de produtos no mercado com um valor fixo de dinheiro disponível. Em outras palavras, estudos de caso não faltam para a gente implementar métodos de otimização.\n",
    "\n",
    "Dito isto, não vamos testar problemas clássicos demais aqui, como o TSP. Por outro lado, vamos otimizar as plantações de um jogo chamado Stardew Valley, um simulador de fazenda bem popular. O objetivo é, para uma determina estação e uma disponibilidade de espaços para plantio, qual a melhor configuração de cultivos maximiza o lucro. As plantas disponíveis podem ser encontradas na [wiki](https://pt.stardewvalleywiki.com/Lavouras)"
   ]
  },
  {
   "cell_type": "code",
   "execution_count": 8,
   "metadata": {},
   "outputs": [],
   "source": [
    "from enum import Enum\n",
    "from typing import List\n",
    "from typing_extensions import Self"
   ]
  },
  {
   "cell_type": "code",
   "execution_count": 58,
   "metadata": {},
   "outputs": [],
   "source": [
    "class Season(Enum):\n",
    "    PRIMAVERA = 1\n",
    "    VERAO = 2\n",
    "    OUTONO = 3\n",
    "    INVERNO = 4\n",
    "\n",
    "class Plant:\n",
    "    def __init__(self, name: str, season: Season, buy_price: int, days_yield: int,\n",
    "        quantity_yield: int, sell_price: int, days_after_yield: int=None\n",
    "    ) -> None:\n",
    "        self.name = name\n",
    "        self.season = season\n",
    "        self.buy_price = buy_price\n",
    "        self.days_yield = days_yield\n",
    "        self.quantity_yield = quantity_yield\n",
    "        self.sell_price = sell_price\n",
    "        self.days_after_yield = days_after_yield\n",
    "\n",
    "    def get_profit(self, time_period: int, log=False) -> int:\n",
    "        buy = self.buy_price\n",
    "        growth = 0\n",
    "        sell = 0\n",
    "        loop = 0\n",
    "\n",
    "        def show(title: str, day: int) -> None:\n",
    "            print(f\"Ação de {title} executada no dia {day}\")\n",
    "\n",
    "        for i in range(1, time_period + 1):\n",
    "            # Vende uma plantação, se ela não for perene\n",
    "            if growth == self.days_yield and self.days_after_yield is None:\n",
    "                sell = sell + self.quantity_yield * self.sell_price\n",
    "                if log: show(\"venda\", i)\n",
    "                loop = loop + 1\n",
    "                growth = 0\n",
    "\n",
    "            # Vende uma plantação perene\n",
    "            if self.days_after_yield is not None and growth == self.days_after_yield:\n",
    "                sell = sell + self.quantity_yield * self.sell_price\n",
    "                if log: show(\"venda\", i)\n",
    "                loop = loop + 1\n",
    "                growth = 0 \n",
    "\n",
    "            # Se não for possível mais colheitas, finaliza o loop\n",
    "            if self.days_after_yield is None and (time_period - i) + growth < self.days_yield:\n",
    "                break\n",
    "\n",
    "            if self.days_after_yield is not None and (time_period - i) + growth < self.days_after_yield:\n",
    "                break\n",
    "\n",
    "            # No dia zero, depois de uma colheita, faz a replantação, se\n",
    "            # a cultura não for perene\n",
    "            if growth == 0 and loop > 0 and self.days_after_yield is None:\n",
    "                buy = buy + self.buy_price\n",
    "                if log: show(\"compra\", i)\n",
    "            \n",
    "            growth = growth + 1\n",
    "\n",
    "        return sell - buy\n",
    "\n",
    "class Crop:\n",
    "    def __init__(self, plant: Plant, quantity: int) -> None:\n",
    "        self.plant = plant\n",
    "        self.quantity = quantity\n",
    "    \n",
    "    def set_quantity(self, quantity: int) -> Self:\n",
    "        self.quantity = quantity\n",
    "        return self\n",
    "\n",
    "class StardewFarm:\n",
    "    def __init__(self, max_spaces: int) -> None:\n",
    "        self.max_spaces = max_spaces\n",
    "\n",
    "    def random_plants(self, season: Season) -> List[Crop]:\n",
    "        pass\n",
    "\n",
    "    def get_neighbors(self, crops: List[Crop], number: int) -> List[List[Crop]]:\n",
    "        pass"
   ]
  },
  {
   "cell_type": "code",
   "execution_count": 61,
   "metadata": {},
   "outputs": [
    {
     "name": "stdout",
     "output_type": "stream",
     "text": [
      "320\n"
     ]
    }
   ],
   "source": [
    "garlic = Plant(\"Alho\", Season.PRIMAVERA, 40, 4, 1, 60, 2)\n",
    "print(garlic.get_profit(13, log=False))"
   ]
  },
  {
   "cell_type": "code",
   "execution_count": null,
   "metadata": {},
   "outputs": [],
   "source": []
  }
 ],
 "metadata": {
  "kernelspec": {
   "display_name": ".venv",
   "language": "python",
   "name": "python3"
  },
  "language_info": {
   "codemirror_mode": {
    "name": "ipython",
    "version": 3
   },
   "file_extension": ".py",
   "mimetype": "text/x-python",
   "name": "python",
   "nbconvert_exporter": "python",
   "pygments_lexer": "ipython3",
   "version": "3.10.12"
  }
 },
 "nbformat": 4,
 "nbformat_minor": 2
}
